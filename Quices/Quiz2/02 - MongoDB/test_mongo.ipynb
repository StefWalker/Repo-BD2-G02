{
 "cells": [
  {
   "cell_type": "code",
   "execution_count": null,
   "metadata": {},
   "outputs": [],
   "source": [
    "from pymongo import MongoClient\n",
    "\n",
    "client = MongoClient('localhost', 27017, username='root', password='example')\n",
    "\n",
    "db = client['posts']\n",
    "posts_collection = db['posts']\n",
    "posts_collection.drop()\n",
    "\n",
    "\n"
   ]
  },
  {
   "cell_type": "code",
   "execution_count": null,
   "metadata": {},
   "outputs": [],
   "source": [
    "from itertools import islice\n",
    "import json\n",
    "from datetime import datetime\n",
    "\n",
    "with open ('data.jsonl', 'r') as file:\n",
    "    for line in islice(file,None):\n",
    "        data = json.loads(line)\n",
    "        data['post']['timestamp'] = datetime.fromisoformat(data['post']['timestamp'])\n",
    "        for comment in data['comments']:\n",
    "            comment['comment']['timestamp'] = datetime.fromisoformat(comment['comment']['timestamp'])\n",
    "        posts_collection.insert_one(data)"
   ]
  },
  {
   "cell_type": "code",
   "execution_count": null,
   "metadata": {},
   "outputs": [],
   "source": [
    "#1 Insertar 5 nuevos documentos de usuario con datos únicos\n",
    "from itertools import islice\n",
    "import json\n",
    "from datetime import datetime\n",
    "\n",
    "\n",
    "with open ('datos_reales.jsonl', 'r') as file:\n",
    "    for line in islice(file,None):\n",
    "        data = json.loads(line)\n",
    "        data['post']['timestamp'] = datetime.fromisoformat(data['post']['timestamp'])\n",
    "        for comment in data['comments']:\n",
    "            comment['comment']['timestamp'] = datetime.fromisoformat(comment['comment']['timestamp'])\n",
    "        posts_collection.insert_one(data)"
   ]
  },
  {
   "cell_type": "code",
   "execution_count": null,
   "metadata": {},
   "outputs": [],
   "source": [
    "#2 Buscar todos los usuarios con edad mayor a 25.\n",
    "\n",
    "cursore = posts_collection.find({'user_age': {'$gt': 25}},{'_id': 0})\n",
    "for doc in cursore:\n",
    "    print(doc)"
   ]
  },
  {
   "cell_type": "code",
   "execution_count": null,
   "metadata": {},
   "outputs": [],
   "source": [
    "#list(posts_collection.find({}, {'user': 1, \"user_email\": {'$eq': \"tmartin@example.org\"}, '_id': 0}))\n",
    "# 3. Buscar un usuario por dirección de correo electrónico\n",
    "\n",
    "cursore = posts_collection.find({'user_email': {'$eq': 'tmartin@example.org'}},{'_id': 0})\n",
    "for doc in cursore:\n",
    "    print(doc)"
   ]
  },
  {
   "cell_type": "code",
   "execution_count": 20,
   "metadata": {},
   "outputs": [
    {
     "data": {
      "text/plain": [
       "UpdateResult({'n': 1, 'nModified': 1, 'ok': 1.0, 'updatedExisting': True}, acknowledged=True)"
      ]
     },
     "execution_count": 20,
     "metadata": {},
     "output_type": "execute_result"
    }
   ],
   "source": [
    "# 4. Actualizar el contenido de la publicación de un usuario específico.\n",
    "from bson import ObjectId\n",
    "\n",
    "posts_collection.update_one({'_id': ObjectId('65f1255d606c54a96079555d')}, {'$set': {'post.content': 'Dylan estuvo aqui'}})"
   ]
  },
  {
   "cell_type": "code",
   "execution_count": null,
   "metadata": {},
   "outputs": [],
   "source": [
    "#2.1 Buscar todos los usuarios cuyo nombre de usuario contenga la palabra S̈mith.̈ (Expresiones regulares)\n",
    "puntero=posts_collection.find({ 'user': { '$regex': 'Smith' } })\n",
    "for doc in puntero:\n",
    "    print(doc)"
   ]
  },
  {
   "cell_type": "code",
   "execution_count": null,
   "metadata": {},
   "outputs": [],
   "source": [
    "# 2.2 Buscar publicaciones creadas después de una fecha específica (por ejemplo, 2000-01-01).\n",
    "start_date = datetime(2000, 1, 1)\n",
    "\n",
    "puntero=posts_collection.find({\"timestamp\": {\"$gt\": start_date}})\n",
    "for doc in puntero:\n",
    "    print(doc)"
   ]
  },
  {
   "cell_type": "code",
   "execution_count": null,
   "metadata": {},
   "outputs": [],
   "source": [
    "#3.1 Buscar usuarios que tengan más de 20 años pero menos de 30\n",
    "\n",
    "cursore = posts_collection.find({'user_age': {'$gt': 20,'$lt':30}},{'_id': 0})\n",
    "for doc in cursore:\n",
    "    print(doc)"
   ]
  },
  {
   "cell_type": "code",
   "execution_count": null,
   "metadata": {},
   "outputs": [],
   "source": [
    "# 3.2 Recuperar solo el nombre de usuario y la edad del usuario de todos los documentos. (Proyección)\n",
    "\n",
    "list(posts_collection.find({}, {'user': 1, \"age\": 1, '_id': 0}))"
   ]
  },
  {
   "cell_type": "code",
   "execution_count": null,
   "metadata": {},
   "outputs": [],
   "source": [
    "# 4.1 Ordenar todos los usuarios por edad en orden descendente.\n",
    "\n",
    "#from pymongo import MongoClient\n",
    "\n",
    "cursore = posts_collection.find({}).sort('user_age', 1)\n",
    "for doc in cursore:\n",
    "    print(doc)\n",
    "                                            "
   ]
  },
  {
   "cell_type": "code",
   "execution_count": null,
   "metadata": {},
   "outputs": [],
   "source": [
    "#4.2 Buscar los 3 usuarios principales con las publicaciones más recientes (en función de la marca de tiempo).\n",
    "from datetime import datetime\n",
    "\n",
    "fecha_actual = datetime.now()\n",
    "\n",
    "cursore = posts_collection.find({'post.timestamp': {'$lte': fecha_actual}},{'_id': 0}).sort('post.timestamp', -1).limit(3)\n",
    "for doc in cursore:\n",
    "    print(doc)\n"
   ]
  },
  {
   "cell_type": "code",
   "execution_count": null,
   "metadata": {},
   "outputs": [],
   "source": [
    "# 5.1 Utilizar el pipeline de agregación para calcular el número total de usuarios.\n",
    "\n"
   ]
  },
  {
   "cell_type": "code",
   "execution_count": null,
   "metadata": {},
   "outputs": [],
   "source": [
    "#5.4 Calcular la longitud promedio de los comentarios en todos los comentarios.\n",
    "\n",
    "#\"$unwind\": \"$comments\" descomprime el campo comments, haceindo mas facil despues trabajar con ese campo\n",
    "#{\"$strLenCP\": \"$comments.comment.text\"} accede al comentario que le hicieron al post\n",
    "cursore = list(posts_collection.aggregate([{\"$unwind\": \"$comments\"},{\"$group\": {\"_id\": None, \"avg_length\": {\"$avg\": {\"$strLenCP\": \"$comments.comment.text\"}}}}],session=None))\n",
    "\n",
    "\n",
    "# Obtener el resultado de la agregación\n",
    "longitud_promedio = cursore[0][\"avg_length\"] if cursore else 0\n",
    "\n",
    "# Imprimir la longitud promedio de los comentarios\n",
    "print(\"Longitud promedio de los comentarios:\", longitud_promedio)\n"
   ]
  },
  {
   "cell_type": "code",
   "execution_count": null,
   "metadata": {},
   "outputs": [],
   "source": [
    "#6.2 Establecer el campo ”contenido” de una publicación específica en una cadena vacía.\n",
    "\n",
    "cursore = posts_collection.find_one_and_update({'post.content': {'$eq': 'los reales nunca moriran brrrrrrr.'}}, {'$set': {'post.content': ''}}, return_document=True)"
   ]
  }
 ],
 "metadata": {
  "kernelspec": {
   "display_name": "Python 3",
   "language": "python",
   "name": "python3"
  },
  "language_info": {
   "codemirror_mode": {
    "name": "ipython",
    "version": 3
   },
   "file_extension": ".py",
   "mimetype": "text/x-python",
   "name": "python",
   "nbconvert_exporter": "python",
   "pygments_lexer": "ipython3",
   "version": "3.12.2"
  }
 },
 "nbformat": 4,
 "nbformat_minor": 2
}
