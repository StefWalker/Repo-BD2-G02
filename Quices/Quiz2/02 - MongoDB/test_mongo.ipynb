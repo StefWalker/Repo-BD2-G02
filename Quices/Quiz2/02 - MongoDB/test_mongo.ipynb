{
 "cells": [
  {
   "cell_type": "code",
   "execution_count": 2,
   "metadata": {},
   "outputs": [],
   "source": [
    "#Estudiantes\n",
    "# Luis Felipe Calderón Pérez | 2021048663\n",
    "# Dylan Stef Torres Wslkrt   | 2018135751\n",
    "#\n",
    "# Esteban Morales Ureña | 2018171928\n",
    "from pymongo import MongoClient\n",
    "\n",
    "client = MongoClient('localhost', 27017, username='root', password='example')\n",
    "\n",
    "db = client['posts']\n",
    "posts_collection = db['posts']\n",
    "posts_collection.drop()\n",
    "\n",
    "\n"
   ]
  },
  {
   "cell_type": "code",
   "execution_count": 3,
   "metadata": {},
   "outputs": [],
   "source": [
    "from itertools import islice\n",
    "import json\n",
    "from datetime import datetime\n",
    "\n",
    "with open ('data.jsonl', 'r') as file:\n",
    "    for line in islice(file,None):\n",
    "        data = json.loads(line)\n",
    "        data['post']['timestamp'] = datetime.fromisoformat(data['post']['timestamp'])\n",
    "        for comment in data['comments']:\n",
    "            comment['comment']['timestamp'] = datetime.fromisoformat(comment['comment']['timestamp'])\n",
    "        posts_collection.insert_one(data)"
   ]
  },
  {
   "cell_type": "code",
   "execution_count": 9,
   "metadata": {},
   "outputs": [],
   "source": [
    "# 1.1 Insertar 5 nuevos documentos de usuario con datos únicos\n",
    "from itertools import islice\n",
    "import json\n",
    "from datetime import datetime\n",
    "\n",
    "\n",
    "with open ('datos_reales.jsonl', 'r') as file:\n",
    "    for line in islice(file,None):\n",
    "        data = json.loads(line)\n",
    "        data['post']['timestamp'] = datetime.fromisoformat(data['post']['timestamp'])\n",
    "        for comment in data['comments']:\n",
    "            comment['comment']['timestamp'] = datetime.fromisoformat(comment['comment']['timestamp'])\n",
    "        posts_collection.insert_one(data)"
   ]
  },
  {
   "cell_type": "code",
   "execution_count": null,
   "metadata": {},
   "outputs": [],
   "source": [
    "# 1.2 Buscar todos los usuarios con edad mayor a 25.\n",
    "\n",
    "cursore = posts_collection.find({'user_age': {'$gt': 25}},{'_id': 0})\n",
    "for doc in cursore:\n",
    "    print(doc)"
   ]
  },
  {
   "cell_type": "code",
   "execution_count": null,
   "metadata": {},
   "outputs": [],
   "source": [
    "#list(posts_collection.find({}, {'user': 1, \"user_email\": {'$eq': \"tmartin@example.org\"}, '_id': 0}))\n",
    "# 1.3. Buscar un usuario por dirección de correo electrónico\n",
    "\n",
    "cursore = posts_collection.find({'user_email': {'$eq': 'tmartin@example.org'}},{'_id': 0})\n",
    "for doc in cursore:\n",
    "    print(doc)"
   ]
  },
  {
   "cell_type": "code",
   "execution_count": null,
   "metadata": {},
   "outputs": [],
   "source": [
    "# 1.4. Actualizar el contenido de la publicación de un usuario específico.\n",
    "from bson import ObjectId\n",
    "\n",
    "posts_collection.update_one({'_id': ObjectId('65f1255d606c54a96079555d')}, {'$set': {'post.content': 'Dylan estuvo aqui'}})"
   ]
  },
  {
   "cell_type": "code",
   "execution_count": 5,
   "metadata": {},
   "outputs": [
    {
     "data": {
      "text/plain": [
       "DeleteResult({'n': 3, 'ok': 1.0}, acknowledged=True)"
      ]
     },
     "execution_count": 5,
     "metadata": {},
     "output_type": "execute_result"
    }
   ],
   "source": [
    "# 1.5. Eliminar un documento de usuario y todos sus comentarios asociados.\n",
    "\n",
    "posts_collection.delete_many({'user': 'Lindsay Thornton'})"
   ]
  },
  {
   "cell_type": "code",
   "execution_count": null,
   "metadata": {},
   "outputs": [],
   "source": [
    "# 2.1 Buscar todos los usuarios cuyo nombre de usuario contenga la palabra S̈mith.̈ (Expresiones regulares)\n",
    "puntero=posts_collection.find({ 'user': { '$regex': 'Smith' } })\n",
    "for doc in puntero:\n",
    "    print(doc)"
   ]
  },
  {
   "cell_type": "code",
   "execution_count": null,
   "metadata": {},
   "outputs": [],
   "source": [
    "# 2.2 Buscar publicaciones creadas después de una fecha específica (por ejemplo, 2000-01-01).\n",
    "from datetime import datetime\n",
    "\n",
    "start_date = datetime(2000, 1, 1)\n",
    "\n",
    "puntero=posts_collection.find({\"post.timestamp\": {\"$gt\": start_date}})\n",
    "for doc in puntero:\n",
    "    print(doc)"
   ]
  },
  {
   "cell_type": "code",
   "execution_count": null,
   "metadata": {},
   "outputs": [],
   "source": [
    "# 2.3. Buscar usuarios que aún no han publicado ningún comentario.\n",
    "cursore = posts_collection.find({ 'comments.comment': { '$exists': False } })\n",
    "\n",
    "for user in cursore:\n",
    "    print(user)"
   ]
  },
  {
   "cell_type": "code",
   "execution_count": null,
   "metadata": {},
   "outputs": [],
   "source": [
    "# 3.1 Buscar usuarios que tengan más de 20 años pero menos de 30\n",
    "\n",
    "cursore = posts_collection.find({'user_age': {'$gt': 20,'$lt':30}},{'_id': 0})\n",
    "for doc in cursore:\n",
    "    print(doc)"
   ]
  },
  {
   "cell_type": "code",
   "execution_count": null,
   "metadata": {},
   "outputs": [],
   "source": [
    "# 3.2 Recuperar solo el nombre de usuario y la edad del usuario de todos los documentos. (Proyección)\n",
    "\n",
    "list(posts_collection.find({}, {'user': 1, \"user_age\": 1, '_id': 0}))"
   ]
  },
  {
   "cell_type": "code",
   "execution_count": null,
   "metadata": {},
   "outputs": [],
   "source": [
    "# 3.3. Buscar todas las publicaciones y excluir el campo ”comentarios\n",
    "\n",
    "puntero = posts_collection.find({}, { 'comments': 0 })\n",
    "\n",
    "for doc in puntero:\n",
    "    print(doc)"
   ]
  },
  {
   "cell_type": "code",
   "execution_count": null,
   "metadata": {},
   "outputs": [],
   "source": [
    "# 3.5. Buscar comentarios publicados por usuarios mayores de 40 años. (Consultas anidadas)\n",
    "\n",
    "cursore = posts_collection.find({'comments': {'$elemMatch': {'user_age': {'$gt': 40}}}}, {'comments': 1, '_id': 0})\n",
    "\n",
    "for doc in cursore:\n",
    "    print(doc)\n"
   ]
  },
  {
   "cell_type": "code",
   "execution_count": null,
   "metadata": {},
   "outputs": [],
   "source": [
    "# 4.1 Ordenar todos los usuarios por edad en orden descendente.\n",
    "\n",
    "#from pymongo import MongoClient\n",
    "\n",
    "cursore = posts_collection.find({}).sort('user_age', 1)\n",
    "for doc in cursore:\n",
    "    print(doc)\n",
    "                                            "
   ]
  },
  {
   "cell_type": "code",
   "execution_count": null,
   "metadata": {},
   "outputs": [],
   "source": [
    "# 4.2 Buscar los 3 usuarios principales con las publicaciones más recientes (en función de la marca de tiempo).\n",
    "from datetime import datetime\n",
    "\n",
    "fecha_actual = datetime.now()\n",
    "\n",
    "cursore = posts_collection.find({'post.timestamp': {'$lte': fecha_actual}},{'_id': 0}).sort('post.timestamp', -1).limit(3)\n",
    "for doc in cursore:\n",
    "    print(doc)\n"
   ]
  },
  {
   "cell_type": "code",
   "execution_count": null,
   "metadata": {},
   "outputs": [],
   "source": [
    "# 4.3. Omitir los primeros 5 resultados y recuperar los próximos 10 usuarios.\n",
    "\n",
    "cursore = posts_collection.find().skip(5).limit(10)\n",
    "\n",
    "for user in cursore:\n",
    "    print(user)"
   ]
  },
  {
   "cell_type": "code",
   "execution_count": null,
   "metadata": {},
   "outputs": [],
   "source": [
    "# 5.1 \n",
    "cursore = posts_collection.aggregate([\n",
    "    {\"$group\": {\"_id\": \"$user\"}},\n",
    "    {\"$group\": {\"_id\": None, \"count\": {\"$sum\": 1}}}\n",
    "],session=None)\n",
    "for cd in cursore:\n",
    "    print(cd)"
   ]
  },
  {
   "cell_type": "code",
   "execution_count": null,
   "metadata": {},
   "outputs": [],
   "source": [
    "# 5.2. Encontrar al usuario con el contenido de publicación más largo (en función del número de caracteres).\n",
    "\n",
    "from bson.son import SON\n",
    "\n",
    "# Pipeline de agregación para encontrar al usuario con el contenido de publicación más largo\n",
    "pipeline = [\n",
    "    {\n",
    "        '$project': {\n",
    "            'user': 1,\n",
    "            'max_post_length': {'$strLenCP': '$post.content'}\n",
    "        }\n",
    "    },\n",
    "    {\n",
    "        '$sort': SON([('max_post_length', -1)])\n",
    "    },\n",
    "    {\n",
    "        '$limit': 1\n",
    "    }\n",
    "]\n",
    "\n",
    "resultado = posts_collection.aggregate(pipeline)\n",
    "\n",
    "for doc in resultado:\n",
    "    print(doc)\n"
   ]
  },
  {
   "cell_type": "code",
   "execution_count": 31,
   "metadata": {},
   "outputs": [
    {
     "name": "stdout",
     "output_type": "stream",
     "text": [
      "Longitud promedio de los comentarios: 159.28579220070904\n"
     ]
    }
   ],
   "source": [
    "# 5.4 Calcular la longitud promedio de los comentarios en todos los comentarios.\n",
    "\n",
    "#\"$unwind\": \"$comments\" descomprime el campo comments, haceindo mas facil despues trabajar con ese campo\n",
    "#{\"$strLenCP\": \"$comments.comment.text\"} accede al comentario que le hicieron al post\n",
    "cursore = list(posts_collection.aggregate([{\"$unwind\": \"$comments\"},{\"$group\": {\"_id\": None, \"avg_length\": {\"$avg\": {\"$strLenCP\": \"$comments.comment.text\"}}}}],session=None))\n",
    "\n",
    "longitud_promedio = cursore[0][\"avg_length\"] if cursore else 0\n",
    "\n",
    "print(\"Longitud promedio de los comentarios:\", longitud_promedio)\n"
   ]
  },
  {
   "cell_type": "code",
   "execution_count": 9,
   "metadata": {},
   "outputs": [
    {
     "data": {
      "text/plain": [
       "UpdateResult({'n': 1435, 'nModified': 1435, 'ok': 1.0, 'updatedExisting': True}, acknowledged=True)"
      ]
     },
     "execution_count": 9,
     "metadata": {},
     "output_type": "execute_result"
    }
   ],
   "source": [
    "# 6.1  Incrementar la edad de todos los usuarios en 1.\n",
    "\n",
    "posts_collection.update_many({},{'$inc': {'user_age': 1}})"
   ]
  },
  {
   "cell_type": "code",
   "execution_count": 6,
   "metadata": {},
   "outputs": [],
   "source": [
    "#6.2 Establecer el campo ”contenido” de una publicación específica en una cadena vacía.\n",
    "\n",
    "cursore = posts_collection.find_one_and_update({'post.content': {'$eq': 'los reales nunca moriran brrrrrrr.'}}, {'$set': {'post.content': ''}}, return_document=True)"
   ]
  },
  {
   "cell_type": "code",
   "execution_count": 41,
   "metadata": {},
   "outputs": [
    {
     "name": "stdout",
     "output_type": "stream",
     "text": [
      "{'_id': ObjectId('65f32b8209a852acd53cc873'),\n",
      " 'post': {'content': 'Random content for Joann Bowen Wide take drop. Down goal '\n",
      "                     'still phone chance tonight. See stock beat significant '\n",
      "                     'right.\\n'\n",
      "                     'Commercial eye meet impact risk. Every laugh true leave '\n",
      "                     'chair part because.',\n",
      "          'timestamp': datetime.datetime(1978, 9, 14, 0, 1, 17, 95000),\n",
      "          'title': 'Random title for Joann Bowen'},\n",
      " 'user': 'Joann Bowen',\n",
      " 'user_age': 19,\n",
      " 'user_email': 'tmartin@example.org'}\n"
     ]
    }
   ],
   "source": [
    "# 6.3. Eliminar todos los comentarios de la publicación de un usuario.\n",
    "from pprint import pprint\n",
    "\n",
    "user = \"Joann Bowen\"\n",
    "\n",
    "posts_collection.update_many(\n",
    "    {'user': user},  # Filtro para identificar las publicaciones del usuario\n",
    "    {'$unset': {'comments': ''}}  # Operador $unset para eliminar el campo \"comments\"\n",
    ")\n",
    "\n",
    "pprint(posts_collection.find_one({'user': user}))\n"
   ]
  },
  {
   "cell_type": "markdown",
   "metadata": {},
   "source": [
    "2. Explicar el plan de consulta para encontrar usuarios con edad mayor a 30.\n",
    "\n",
    "\n",
    "3. Discutir las ventajas y desventajas de almacenar comentarios dentro del documento de usuario\n",
    "\n",
    "Ventajas: \n",
    "1- No hay que hacer joins entre documentos\n",
    "2- Reduce la necesidad de hacer multiples consultas, ya que los datos están en el mismo objeto\n",
    "\n",
    "Desventajas:\n",
    "1- Se complican las consultas, porque hay que acceder a traves de campos en el documento\n",
    "2- Se hace muy grande el dato del documento haciendo un poco abstracto entenderlo\n"
   ]
  }
 ],
 "metadata": {
  "kernelspec": {
   "display_name": "Python 3",
   "language": "python",
   "name": "python3"
  },
  "language_info": {
   "codemirror_mode": {
    "name": "ipython",
    "version": 3
   },
   "file_extension": ".py",
   "mimetype": "text/x-python",
   "name": "python",
   "nbconvert_exporter": "python",
   "pygments_lexer": "ipython3",
   "version": "3.12.2"
  },
  "vscode": {
   "interpreter": {
    "hash": "aee8b7b246df8f9039afb4144a1f6fd8d2ca17a180786b69acc140d282b71a49"
   }
  }
 },
 "nbformat": 4,
 "nbformat_minor": 2
}
