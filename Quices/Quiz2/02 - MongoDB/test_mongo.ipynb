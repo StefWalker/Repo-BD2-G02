{
 "cells": [
  {
   "cell_type": "code",
   "execution_count": null,
   "metadata": {},
   "outputs": [],
   "source": [
    "from pymongo import MongoClient\n",
    "\n",
    "client = MongoClient('localhost', 27017, username='root', password='example')\n",
    "\n",
    "db = client['posts']\n",
    "posts_collection = db['posts']\n",
    "posts_collection.drop()\n",
    "\n",
    "\n"
   ]
  },
  {
   "cell_type": "code",
   "execution_count": null,
   "metadata": {},
   "outputs": [],
   "source": [
    "from itertools import islice\n",
    "import json\n",
    "from datetime import datetime\n",
    "\n",
    "with open ('data.jsonl', 'r') as file:\n",
    "    for line in islice(file,None):\n",
    "        data = json.loads(line)\n",
    "        data['post']['timestamp'] = datetime.fromisoformat(data['post']['timestamp'])\n",
    "        for comment in data['comments']:\n",
    "            comment['comment']['timestamp'] = datetime.fromisoformat(comment['comment']['timestamp'])\n",
    "        posts_collection.insert_one(data)"
   ]
  },
  {
   "cell_type": "code",
   "execution_count": null,
   "metadata": {},
   "outputs": [],
   "source": [
    "#1 Insertar 5 nuevos documentos de usuario con datos únicos\n",
    "from itertools import islice\n",
    "import json\n",
    "from datetime import datetime\n",
    "\n",
    "\n",
    "with open ('datos_reales.jsonl', 'r') as file:\n",
    "    for line in islice(file,None):\n",
    "        data = json.loads(line)\n",
    "        data['post']['timestamp'] = datetime.fromisoformat(data['post']['timestamp'])\n",
    "        for comment in data['comments']:\n",
    "            comment['comment']['timestamp'] = datetime.fromisoformat(comment['comment']['timestamp'])\n",
    "        posts_collection.insert_one(data)"
   ]
  },
  {
   "cell_type": "code",
   "execution_count": null,
   "metadata": {},
   "outputs": [],
   "source": [
    "#2 Buscar todos los usuarios con edad mayor a 25.\n",
    "\n",
    "cursore = posts_collection.find({'user_age': {'$gt': 25}},{'_id': 0})\n",
    "for doc in cursore:\n",
    "    print(doc)"
   ]
  },
  {
   "cell_type": "code",
   "execution_count": null,
   "metadata": {},
   "outputs": [],
   "source": [
    "#list(posts_collection.find({}, {'user': 1, \"user_email\": {'$eq': \"tmartin@example.org\"}, '_id': 0}))\n",
    "# 3. Buscar un usuario por dirección de correo electrónico\n",
    "\n",
    "cursore = posts_collection.find({'user_email': {'$eq': 'tmartin@example.org'}},{'_id': 0})\n",
    "for doc in cursore:\n",
    "    print(doc)"
   ]
  },
  {
   "cell_type": "code",
   "execution_count": 20,
   "metadata": {},
   "outputs": [
    {
     "data": {
      "text/plain": [
       "UpdateResult({'n': 1, 'nModified': 1, 'ok': 1.0, 'updatedExisting': True}, acknowledged=True)"
      ]
     },
     "execution_count": 20,
     "metadata": {},
     "output_type": "execute_result"
    }
   ],
   "source": [
    "# 4. Actualizar el contenido de la publicación de un usuario específico.\n",
    "from bson import ObjectId\n",
    "\n",
    "posts_collection.update_one({'_id': ObjectId('65f1255d606c54a96079555d')}, {'$set': {'post.content': 'Dylan estuvo aqui'}})"
   ]
  }
 ],
 "metadata": {
  "kernelspec": {
   "display_name": "Python 3",
   "language": "python",
   "name": "python3"
  },
  "language_info": {
   "codemirror_mode": {
    "name": "ipython",
    "version": 3
   },
   "file_extension": ".py",
   "mimetype": "text/x-python",
   "name": "python",
   "nbconvert_exporter": "python",
   "pygments_lexer": "ipython3",
   "version": "3.12.2"
  }
 },
 "nbformat": 4,
 "nbformat_minor": 2
}
