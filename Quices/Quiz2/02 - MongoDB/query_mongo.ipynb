{
 "cells": [
  {
   "cell_type": "code",
   "execution_count": 1,
   "metadata": {},
   "outputs": [],
   "source": [
    "#Estudiantes\n",
    "# Luis Felipe Calderón Pérez | 2021048663\n",
    "# Dylan Stef Torres Walker   | 2018135751\n",
    "# Esteban Morales Ureña      | 2018171928\n",
    "# Sebastián Vargas Mesén     | 2019178495\n",
    "#\n",
    "\n",
    "from pymongo import MongoClient\n",
    "\n",
    "client = MongoClient('localhost', 27017, username='root', password='example')\n",
    "\n",
    "db = client['posts']\n",
    "posts_collection = db['posts']\n",
    "posts_collection.drop()\n",
    "\n",
    "\n"
   ]
  },
  {
   "cell_type": "code",
   "execution_count": 20,
   "metadata": {},
   "outputs": [],
   "source": [
    "from itertools import islice\n",
    "import json\n",
    "from datetime import datetime\n",
    "\n",
    "with open ('quiz2_data.jsonl', 'r') as file:\n",
    "    for line in islice(file,None):\n",
    "        data = json.loads(line)\n",
    "        data['post']['timestamp'] = datetime.fromisoformat(data['post']['timestamp'])\n",
    "        for comment in data['comments']:\n",
    "            comment['comment']['timestamp'] = datetime.fromisoformat(comment['comment']['timestamp'])\n",
    "        posts_collection.insert_one(data)"
   ]
  },
  {
   "cell_type": "code",
   "execution_count": 5,
   "metadata": {},
   "outputs": [],
   "source": [
    "# 1.1 Insertar 5 nuevos documentos de usuario con datos únicos\n",
    "from itertools import islice\n",
    "import json\n",
    "from datetime import datetime\n",
    "\n",
    "\n",
    "with open ('datos_reales.jsonl', 'r') as file:\n",
    "    for line in islice(file,None):\n",
    "        data = json.loads(line)\n",
    "        data['post']['timestamp'] = datetime.fromisoformat(data['post']['timestamp'])\n",
    "        for comment in data['comments']:\n",
    "            comment['comment']['timestamp'] = datetime.fromisoformat(comment['comment']['timestamp'])\n",
    "        posts_collection.insert_one(data)"
   ]
  },
  {
   "cell_type": "code",
   "execution_count": null,
   "metadata": {},
   "outputs": [],
   "source": [
    "# 1.2 Buscar todos los usuarios con edad mayor a 25.\n",
    "\n",
    "cursore = posts_collection.find({'user_age': {'$gt': 25}},{'_id': 0})\n",
    "for doc in cursore:\n",
    "    print(doc)"
   ]
  },
  {
   "cell_type": "code",
   "execution_count": null,
   "metadata": {},
   "outputs": [],
   "source": [
    "# 1.3. Buscar un usuario por dirección de correo electrónico\n",
    "\n",
    "cursore = posts_collection.find({'user_email': {'$eq': 'tmartin@example.org'}},{'_id': 0})\n",
    "for doc in cursore:\n",
    "    print(doc)"
   ]
  },
  {
   "cell_type": "code",
   "execution_count": null,
   "metadata": {},
   "outputs": [],
   "source": [
    "# 1.4. Actualizar el contenido de la publicación de un usuario específico.\n",
    "from bson import ObjectId\n",
    "\n",
    "posts_collection.update_one({'_id': ObjectId('65f1255d606c54a96079555d')}, {'$set': {'post.content': 'Dylan estuvo aqui'}})"
   ]
  },
  {
   "cell_type": "code",
   "execution_count": null,
   "metadata": {},
   "outputs": [],
   "source": [
    "# 1.5. Eliminar un documento de usuario y todos sus comentarios asociados.\n",
    "\n",
    "posts_collection.delete_many({'user': 'Lindsay Thornton'})"
   ]
  },
  {
   "cell_type": "code",
   "execution_count": null,
   "metadata": {},
   "outputs": [],
   "source": [
    "# 2.1 Buscar todos los usuarios cuyo nombre de usuario contenga la palabra S̈mith.̈ (Expresiones regulares)\n",
    "puntero=posts_collection.find({ 'user': { '$regex': 'Smith' } })\n",
    "for doc in puntero:\n",
    "    print(doc)"
   ]
  },
  {
   "cell_type": "code",
   "execution_count": null,
   "metadata": {},
   "outputs": [],
   "source": [
    "# 2.2 Buscar publicaciones creadas después de una fecha específica (por ejemplo, 2000-01-01).\n",
    "from datetime import datetime\n",
    "\n",
    "start_date = datetime(2000, 1, 1)\n",
    "\n",
    "puntero=posts_collection.find({\"post.timestamp\": {\"$gt\": start_date}})\n",
    "for doc in puntero:\n",
    "    print(doc)"
   ]
  },
  {
   "cell_type": "code",
   "execution_count": null,
   "metadata": {},
   "outputs": [],
   "source": [
    "# 2.3. Buscar usuarios que aún no han publicado ningún comentario.\n",
    "cursore = posts_collection.find({ 'comments.comment': { '$exists': False } })\n",
    "\n",
    "for user in cursore:\n",
    "    print(user)"
   ]
  },
  {
   "cell_type": "code",
   "execution_count": null,
   "metadata": {},
   "outputs": [],
   "source": [
    "# 2.4. Encontrar la edad promedio de todos los usuarios.\n",
    "\n",
    "average_age_result = list(posts_collection.aggregate([\n",
    "    {\"$group\": {\n",
    "        \"_id\": None,\n",
    "        \"average_age\": {\"$avg\": \"$user_age\"}\n",
    "    }}\n",
    "],session=None))\n",
    "\n",
    "print(\"Edad promedio de los usuarios:\", average_age_result[0]['average_age'])"
   ]
  },
  {
   "cell_type": "code",
   "execution_count": null,
   "metadata": {},
   "outputs": [],
   "source": [
    "# 2.5. Buscar documentos donde la longitud del contenido de la publicación sea superior a 100 caracteres.\n",
    "\n",
    "cursore = posts_collection.find({\"$expr\": {\"$gt\": [{\"$strLenCP\": \"$post.content\"}, 100]}})\n",
    "\n",
    "for user in cursore:\n",
    "    print(user)"
   ]
  },
  {
   "cell_type": "code",
   "execution_count": null,
   "metadata": {},
   "outputs": [],
   "source": [
    "# 3.1 Buscar usuarios que tengan más de 20 años pero menos de 30\n",
    "\n",
    "cursore = posts_collection.find({'user_age': {'$gt': 20,'$lt':30}},{'_id': 0})\n",
    "for doc in cursore:\n",
    "    print(doc)"
   ]
  },
  {
   "cell_type": "code",
   "execution_count": null,
   "metadata": {},
   "outputs": [],
   "source": [
    "# 3.2 Recuperar solo el nombre de usuario y la edad del usuario de todos los documentos. (Proyección)\n",
    "\n",
    "list(posts_collection.find({}, {'user': 1, \"user_age\": 1, '_id': 0}))"
   ]
  },
  {
   "cell_type": "code",
   "execution_count": null,
   "metadata": {},
   "outputs": [],
   "source": [
    "# 3.3. Buscar todas las publicaciones y excluir el campo ”comentarios\n",
    "\n",
    "puntero = posts_collection.find({}, { 'comments': 0 })\n",
    "\n",
    "for doc in puntero:\n",
    "    print(doc)"
   ]
  },
  {
   "cell_type": "code",
   "execution_count": 17,
   "metadata": {},
   "outputs": [],
   "source": [
    "# 3.4. Buscar usuarios con al menos un comentario en su matriz ”comentarios”.\n",
    "\n",
    "puntero = posts_collection.find({\"posts.comment\": {\"$exists\": True, \"$not\": {\"$size\": 0}}},{'user': 1, '_id': 0})\n",
    "\n",
    "for doc in puntero:\n",
    "    print(doc)"
   ]
  },
  {
   "cell_type": "code",
   "execution_count": null,
   "metadata": {},
   "outputs": [],
   "source": [
    "# 3.5. Buscar comentarios publicados por usuarios mayores de 40 años. (Consultas anidadas)\n",
    "\n",
    "cursore = posts_collection.find({'comments': {'$elemMatch': {'user_age': {'$gt': 40}}}}, {'comments': 1, '_id': 0})\n",
    "\n",
    "for doc in cursore:\n",
    "    print(doc)\n"
   ]
  },
  {
   "cell_type": "code",
   "execution_count": null,
   "metadata": {},
   "outputs": [],
   "source": [
    "# 4.1 Ordenar todos los usuarios por edad en orden descendente.\n",
    "\n",
    "#from pymongo import MongoClient\n",
    "\n",
    "cursore = posts_collection.find({}).sort('user_age', 1)\n",
    "for doc in cursore:\n",
    "    print(doc)\n",
    "                                            "
   ]
  },
  {
   "cell_type": "code",
   "execution_count": null,
   "metadata": {},
   "outputs": [],
   "source": [
    "# 4.2 Buscar los 3 usuarios principales con las publicaciones más recientes (en función de la marca de tiempo).\n",
    "from datetime import datetime\n",
    "\n",
    "fecha_actual = datetime.now()\n",
    "\n",
    "cursore = posts_collection.find({'post.timestamp': {'$lte': fecha_actual}},{'_id': 0}).sort('post.timestamp', -1).limit(3)\n",
    "for doc in cursore:\n",
    "    print(doc)\n"
   ]
  },
  {
   "cell_type": "code",
   "execution_count": null,
   "metadata": {},
   "outputs": [],
   "source": [
    "# 4.3. Omitir los primeros 5 resultados y recuperar los próximos 10 usuarios.\n",
    "\n",
    "cursore = posts_collection.find().skip(5).limit(10)\n",
    "\n",
    "for user in cursore:\n",
    "    print(user)"
   ]
  },
  {
   "cell_type": "code",
   "execution_count": null,
   "metadata": {},
   "outputs": [],
   "source": [
    "# 5.1 Utilizar el pipeline de agregación para calcular el número total de usuarios.\n",
    "\n",
    "cursore = posts_collection.aggregate([\n",
    "    {\"$group\": {\"_id\": \"$user\"}},\n",
    "    {\"$group\": {\"_id\": None, \"count\": {\"$sum\": 1}}}\n",
    "],session=None)\n",
    "\n",
    "for cd in cursore:\n",
    "    print(cd)"
   ]
  },
  {
   "cell_type": "code",
   "execution_count": null,
   "metadata": {},
   "outputs": [],
   "source": [
    "# 5.2. Encontrar al usuario con el contenido de publicación más largo (en función del número de caracteres).\n",
    "\n",
    "from bson.son import SON\n",
    "\n",
    "# Pipeline de agregación para encontrar al usuario con el contenido de publicación más largo\n",
    "pipeline = [\n",
    "    {\n",
    "        '$project': {\n",
    "            'user': 1,\n",
    "            'max_post_length': {'$strLenCP': '$post.content'}\n",
    "        }\n",
    "    },\n",
    "    {\n",
    "        '$sort': SON([('max_post_length', -1)])\n",
    "    },\n",
    "    {\n",
    "        '$limit': 1\n",
    "    }\n",
    "]\n",
    "\n",
    "resultado = posts_collection.aggregate(pipeline)\n",
    "\n",
    "for doc in resultado:\n",
    "    print(doc)\n"
   ]
  },
  {
   "cell_type": "code",
   "execution_count": null,
   "metadata": {},
   "outputs": [],
   "source": [
    "# 5.3. Agrupar a los usuarios por edad y contar la cantidad de usuarios en cada grupo de edad.\n",
    "\n",
    "cursore = posts_collection.aggregate([\n",
    "    {\"$group\": {\"_id\": \"$user_age\", \"count\": {\"$sum\": 1}}},\n",
    "    {\"$match\": {\"count\": {\"$gt\": 1}}}\n",
    "],session=None)\n",
    "\n",
    "for cd in cursore:\n",
    "    print(cd)"
   ]
  },
  {
   "cell_type": "code",
   "execution_count": null,
   "metadata": {},
   "outputs": [],
   "source": [
    "# 5.4 Calcular la longitud promedio de los comentarios en todos los comentarios.\n",
    "\n",
    "#\"$unwind\": \"$comments\" descomprime el campo comments, haceindo mas facil despues trabajar con ese campo\n",
    "#{\"$strLenCP\": \"$comments.comment.text\"} accede al comentario que le hicieron al post\n",
    "cursore = list(posts_collection.aggregate([{\"$unwind\": \"$comments\"},{\"$group\": {\"_id\": None, \"avg_length\": {\"$avg\": {\"$strLenCP\": \"$comments.comment.text\"}}}}],session=None))\n",
    "\n",
    "longitud_promedio = cursore[0][\"avg_length\"] if cursore else 0\n",
    "\n",
    "print(\"Longitud promedio de los comentarios:\", longitud_promedio)\n"
   ]
  },
  {
   "cell_type": "code",
   "execution_count": null,
   "metadata": {},
   "outputs": [],
   "source": [
    "# 5.5. Cambiar la forma como se presentan los datos, de tal forma que cada usuario tenga la lista de todos\n",
    "# los posts asociados a él. No se deben agregar el detalle de los comentarios, solo un nuevo campo con\n",
    "# el total de comentarios\n",
    "\n",
    "cursore = list(posts_collection.aggregate([\n",
    "    {\n",
    "        \"$lookup\": {\n",
    "            \"from\": \"posts\",\n",
    "            \"localField\": \"user_email\",\n",
    "            \"foreignField\": \"user_email\",\n",
    "            \"as\": \"user_posts\"\n",
    "        }\n",
    "    },\n",
    "    {\n",
    "        \"$project\": {\n",
    "            \"_id\": 0,\n",
    "            \"user\": 1,\n",
    "            \"posts\": {\"$slice\": [\"$user_posts\", 5]} # Limite de 5 post debido a error encontrado BSONObjectTooLarge\n",
    "        }\n",
    "    },\n",
    "    {\n",
    "        \"$group\": {\n",
    "            \"_id\": \"$user\",\n",
    "            \"posts\": {\"$push\": \"$posts\"}\n",
    "        }\n",
    "    }\n",
    "],session=None))\n",
    "\n",
    "for cd in cursore:\n",
    "    print(cd)\n"
   ]
  },
  {
   "cell_type": "code",
   "execution_count": null,
   "metadata": {},
   "outputs": [],
   "source": [
    "# 6.1  Incrementar la edad de todos los usuarios en 1.\n",
    "\n",
    "posts_collection.update_many({},{'$inc': {'user_age': 1}})"
   ]
  },
  {
   "cell_type": "code",
   "execution_count": 6,
   "metadata": {},
   "outputs": [],
   "source": [
    "#6.2 Establecer el campo ”contenido” de una publicación específica en una cadena vacía.\n",
    "\n",
    "cursore = posts_collection.find_one_and_update({'post.content': {'$eq': 'los reales nunca moriran brrrrrrr.'}}, {'$set': {'post.content': ''}}, return_document=True)"
   ]
  },
  {
   "cell_type": "code",
   "execution_count": null,
   "metadata": {},
   "outputs": [],
   "source": [
    "# 6.3. Eliminar todos los comentarios de la publicación de un usuario.\n",
    "from pprint import pprint\n",
    "\n",
    "user = \"Joann Bowen\"\n",
    "\n",
    "posts_collection.update_many(\n",
    "    {'user': user},  # Filtro para identificar las publicaciones del usuario\n",
    "    {'$unset': {'comments': ''}}  # Operador $unset para eliminar el campo \"comments\"\n",
    ")\n",
    "\n",
    "pprint(posts_collection.find_one({'user': user}))\n"
   ]
  },
  {
   "cell_type": "code",
   "execution_count": null,
   "metadata": {},
   "outputs": [],
   "source": [
    "# 6.4. Eliminar todos los usuarios con direcciones de correo electrónico que terminen en ”@example.org”\n",
    "\n",
    "result = posts_collection.delete_many({\"user_email\": {\"$regex\": \"@example.org$\"}})\n",
    "\n",
    "print(f\"Total de documentos eliminados: {result.deleted_count}\")"
   ]
  },
  {
   "cell_type": "code",
   "execution_count": null,
   "metadata": {},
   "outputs": [],
   "source": [
    "# 7.1. Crear un índice en el campo ”user_email” para búsquedas de correo electrónico más rápidas.\n",
    "\n",
    "posts_collection.create_index([('user_email', 1)])"
   ]
  },
  {
   "cell_type": "markdown",
   "metadata": {},
   "source": [
    "### 7.2 Explicar el plan de consulta para encontrar usuarios con edad mayor a 30.\n",
    "\n",
    "En este caso la consulta se realizaria de esa forma:\n",
    "``` python\n",
    " cursore = posts_collection.find({'user_age': {'$gt': 30}},{'_id': 0})\n",
    " for doc in cursore:\n",
    "    print(doc)\n",
    "```\n",
    "Nos centrariamos solo la parte de query para filtar a los usuarios por su edad donde esta sea mayor que usando (\"$gt\" greater than) y luego para beneficiar a la busqueda damos en la proyeccion el recorte del _id para evitar encontrar datos innecesarios \n",
    "\n",
    "\n",
    "### 7.3 Discutir las ventajas y desventajas de almacenar comentarios dentro del documento de usuario\n",
    "\n",
    "Ventajas: \n",
    "1. No hay que hacer joins entre documentos\n",
    "2. Reduce la necesidad de hacer multiples consultas, ya que los datos están en el mismo objeto\n",
    "3. Se generan entradas con parametros distintos para cada busqueda especifica\n",
    "4. Se reduce el anidamiento exponencial en un solo usuario\n",
    "5. Se reduce la posibilidad de perdida de datos por una mala entrada\n",
    "\n",
    "Desventajas:\n",
    "1. Se complican las consultas, porque hay que acceder a traves de campos en el documento\n",
    "2. Se hace muy grande el dato del documento, haciendo un poco abstracto entenderlo\n",
    "3. Se generan datos repetidos como lo son el usuario, su correo y demas\n",
    "4. Hace mas delicada la busqueda sin embargo no es una complejidad alta\n",
    "5. Queries de busquedas con requisitos especificos se pueden llegar a extender mucho\n"
   ]
  }
 ],
 "metadata": {
  "kernelspec": {
   "display_name": "Python 3",
   "language": "python",
   "name": "python3"
  },
  "language_info": {
   "codemirror_mode": {
    "name": "ipython",
    "version": 3
   },
   "file_extension": ".py",
   "mimetype": "text/x-python",
   "name": "python",
   "nbconvert_exporter": "python",
   "pygments_lexer": "ipython3",
   "version": "3.12.2"
  },
  "vscode": {
   "interpreter": {
    "hash": "aee8b7b246df8f9039afb4144a1f6fd8d2ca17a180786b69acc140d282b71a49"
   }
  }
 },
 "nbformat": 4,
 "nbformat_minor": 2
}
